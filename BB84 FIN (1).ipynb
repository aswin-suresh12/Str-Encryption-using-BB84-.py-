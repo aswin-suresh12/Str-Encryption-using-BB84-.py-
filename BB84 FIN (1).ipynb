{
 "cells": [
  {
   "cell_type": "code",
   "execution_count": 2,
   "id": "1b0275ae",
   "metadata": {},
   "outputs": [],
   "source": [
    "import cirq"
   ]
  },
  {
   "cell_type": "code",
   "execution_count": 5,
   "id": "db87953c",
   "metadata": {},
   "outputs": [
    {
     "name": "stdout",
     "output_type": "stream",
     "text": [
      "\n",
      "Alice's key:  [1, 1, 0, 0, 1, 0, 0, 0, 1, 1, 1, 0, 1, 1, 1, 1, 0, 1, 1, 0, 1, 0, 1, 0]\n",
      "Bob's key:  [1, 1, 0, 0, 1, 0, 0, 0, 1, 1, 1, 0, 1, 1, 1, 1, 0, 1, 1, 0, 1, 0, 1, 0]\n",
      "We can use our keys!\n",
      "Alice Key:  [1, 0, 0, 1, 0, 0, 0, 1, 1, 1, 0, 1, 1, 1, 1, 0, 1, 1, 0, 1, 0, 1, 0]\n",
      "Bob Key:  [1, 0, 0, 1, 0, 0, 0, 1, 1, 1, 0, 1, 1, 1, 1, 0, 1, 1, 0, 1, 0, 1, 0]\n"
     ]
    }
   ],
   "source": [
    "import random\n",
    "\n",
    "num_bits = 50 # A random choice for the length of secret key for encryption \n",
    "alice_key = random.choices([0, 1], k = num_bits) # Alice pick up the Secret Key \n",
    "alice_bases = random.choices(['Z', 'X'], k = num_bits) # Alice Picks the Basis\n",
    "\n",
    "qubits = cirq.NamedQubit.range(num_bits, prefix = 'q') # Alice creates qubits to store the bit values\n",
    "\n",
    "basis_gates = {0:cirq.I , 1: cirq.X} # Encoding the binary key bit value into qubit. Binary 0 is encoded as Qubit state 0 and Binary 1 is encoded as qubit state 1.\n",
    "encode_basis = {'Z':cirq.I, 'X':cirq.H} # Encoding basis into the prepared qubit as per Alice random basis choice for each qubit.\n",
    "\n",
    "# ALICE CREATES HER CIRCUIT TO ENCODE THE RANDOMLY CHOSEN BASIS TO THE QUBIT\n",
    "\n",
    "alice_circuit = cirq.Circuit()\n",
    "\n",
    "for bit in range(num_bits):\n",
    "\n",
    "  encode_qubit_value = alice_key[bit] #Alice choses each bit in secret key and stores it in a variable\n",
    "  encode_gate = basis_gates[encode_qubit_value] # She encodes the bit state into a qubit according to the defined criteria.\n",
    "\n",
    "  basis_value=alice_bases[bit] # Alice choses the randomly created basis states for encoding it into her qubit.\n",
    "  basis_gate = encode_basis[basis_value] # Alice encodes the basis state into a qubit according to the defined criteria.\n",
    "\n",
    "  qubit = qubits[bit] # Alice choses one qubit by each\n",
    "  alice_circuit.append(encode_gate(qubit)) # Encodes the corrsponding state for 0 and 1 into it.\n",
    "  alice_circuit.append(basis_gate(qubit)) # Encodes the basis state \n",
    "\n",
    "# BOB CREATES HIS CIRCUIT TO RNADOMLY PICK BASES AND MEASEURE THE RECIEVED QUBIT\n",
    "\n",
    "\n",
    "bob_encode_basis ={'Z':cirq.I ,'X' : cirq.H}  # Encoding basis into the recieved qubits.\n",
    "bob_basis = random.choices(['Z', 'X'], k = num_bits) # BOB Choses random basis and append it to the recieved qubits form alice\n",
    "\n",
    "bob_circuit = cirq.Circuit()\n",
    "\n",
    "for bit in range (num_bits):\n",
    "  basis_value = bob_basis[bit]\n",
    "  basis_gate = bob_encode_basis[basis_value] # BOB encodes the basis state into the qubits according to the defined criteria.\n",
    "\n",
    "  qubit = qubits[bit]\n",
    "  bob_circuit.append(basis_gate(qubit)) # Encodes the basis state \n",
    "\n",
    "# BOB MEASURES HIS CIRCUIT \n",
    "\n",
    "bob_circuit.append(cirq.measure(qubits , key = \"bob key\"))\n",
    "\n",
    "# BOB RE-CREATES THE SECRET KEY\n",
    "\n",
    "bb84_circuit = alice_circuit + bob_circuit\n",
    "\n",
    "sim = cirq.Simulator()\n",
    "results = sim.run(bb84_circuit)\n",
    "bob_key = results.measurements['bob key'][0]\n",
    "\n",
    "#ALICE AND BOB COMPARE BASES\n",
    "\n",
    "final_alice_key = []\n",
    "final_bob_key = []\n",
    "\n",
    "for bit in range(num_bits):\n",
    "\n",
    "  if alice_bases[bit] == bob_basis[bit]:\n",
    "    final_alice_key.append(alice_key[bit])\n",
    "    final_bob_key.append(bob_key[bit])\n",
    "\n",
    "print('\\nAlice\\'s key: ', final_alice_key)\n",
    "print('Bob\\'s key: ', final_bob_key)\n",
    "\n",
    "#ALICE AND BOB COMPARES THE FIRST FEW BITS INORDER TO DETECT THE PRESCENCE OF EVE\n",
    "\n",
    "if final_alice_key[0] == final_bob_key[0]:\n",
    "  final_alice_key = final_alice_key[1:]\n",
    "  final_bob_key = final_bob_key[1:]\n",
    "\n",
    "  print('We can use our keys!')\n",
    "  print('Alice Key: ', final_alice_key)\n",
    "  print('Bob Key: ', final_bob_key)"
   ]
  },
  {
   "cell_type": "code",
   "execution_count": 8,
   "id": "b6533ff3",
   "metadata": {},
   "outputs": [
    {
     "data": {
      "text/plain": [
       "[1, 0, 0, 1, 0, 0, 0, 1, 1]"
      ]
     },
     "execution_count": 8,
     "metadata": {},
     "output_type": "execute_result"
    }
   ],
   "source": [
    "secret_key = final_alice_key[0:8]\n",
    "secret_key"
   ]
  },
  {
   "cell_type": "code",
   "execution_count": null,
   "id": "707830eb",
   "metadata": {},
   "outputs": [],
   "source": []
  }
 ],
 "metadata": {
  "kernelspec": {
   "display_name": "Python 3 (ipykernel)",
   "language": "python",
   "name": "python3"
  },
  "language_info": {
   "codemirror_mode": {
    "name": "ipython",
    "version": 3
   },
   "file_extension": ".py",
   "mimetype": "text/x-python",
   "name": "python",
   "nbconvert_exporter": "python",
   "pygments_lexer": "ipython3",
   "version": "3.11.4"
  }
 },
 "nbformat": 4,
 "nbformat_minor": 5
}
