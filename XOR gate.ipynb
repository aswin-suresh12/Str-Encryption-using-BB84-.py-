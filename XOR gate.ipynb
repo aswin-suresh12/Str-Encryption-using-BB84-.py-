{
 "cells": [
  {
   "cell_type": "code",
   "execution_count": 6,
   "id": "215bb5d9",
   "metadata": {},
   "outputs": [],
   "source": [
    "def XOR (a, b):\n",
    "    \n",
    "    output = a^b\n",
    "    \n",
    "    return output"
   ]
  },
  {
   "cell_type": "code",
   "execution_count": 12,
   "id": "b71745bb",
   "metadata": {},
   "outputs": [],
   "source": [
    "Secret_Key = 11001110 #random secret ket to show XOR functioning\n",
    "Bin = 0b1000001 # Binary equivalent of A\n",
    "\n",
    "Cypher = XOR(Secret_Key , Bin)"
   ]
  },
  {
   "cell_type": "code",
   "execution_count": 13,
   "id": "5be4721f",
   "metadata": {},
   "outputs": [
    {
     "data": {
      "text/plain": [
       "65"
      ]
     },
     "execution_count": 13,
     "metadata": {},
     "output_type": "execute_result"
    }
   ],
   "source": [
    "XOR(Cypher  , Secret_Key) # XOR of the secret key with the cypher text again returns the ASCII of the character A."
   ]
  },
  {
   "cell_type": "code",
   "execution_count": null,
   "id": "1da83039",
   "metadata": {},
   "outputs": [],
   "source": []
  }
 ],
 "metadata": {
  "kernelspec": {
   "display_name": "Python 3 (ipykernel)",
   "language": "python",
   "name": "python3"
  },
  "language_info": {
   "codemirror_mode": {
    "name": "ipython",
    "version": 3
   },
   "file_extension": ".py",
   "mimetype": "text/x-python",
   "name": "python",
   "nbconvert_exporter": "python",
   "pygments_lexer": "ipython3",
   "version": "3.11.4"
  }
 },
 "nbformat": 4,
 "nbformat_minor": 5
}
