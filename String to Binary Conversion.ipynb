{
 "cells": [
  {
   "cell_type": "code",
   "execution_count": 1,
   "id": "8511c049",
   "metadata": {},
   "outputs": [
    {
     "name": "stdout",
     "output_type": "stream",
     "text": [
      "0b10101000b11010000b11001010b1000000b11010000b11000010b11100100b11001000b11001010b11100110b11101000b1000000b11000110b11010000b11011110b11010010b11000110b11001010b11100110b1000000b11100100b11001010b11100010b11101010b11010010b11100100b11001010b1000000b11101000b11010000b11001010b1000000b11100110b11101000b11100100b11011110b11011100b11001110b11001010b11100110b11101000b1000000b11101110b11010010b11011000b1101100\n"
     ]
    }
   ],
   "source": [
    "def str_to_binary(string):\n",
    "    \n",
    "\n",
    "    binary_list = []\n",
    "\n",
    "\n",
    "    for char in string:\n",
    "\n",
    "        binary_list.append(bin(ord(char)).zfill(8))\n",
    "\n",
    "\n",
    "    return ''.join(binary_list)\n",
    "\n",
    "Binary_rep = str_to_binary(\"The hardest choices require the strongest will\")\n",
    "print(Binary_rep)\n"
   ]
  },
  {
   "cell_type": "code",
   "execution_count": null,
   "id": "458bc2a6",
   "metadata": {},
   "outputs": [],
   "source": []
  }
 ],
 "metadata": {
  "kernelspec": {
   "display_name": "Python 3 (ipykernel)",
   "language": "python",
   "name": "python3"
  },
  "language_info": {
   "codemirror_mode": {
    "name": "ipython",
    "version": 3
   },
   "file_extension": ".py",
   "mimetype": "text/x-python",
   "name": "python",
   "nbconvert_exporter": "python",
   "pygments_lexer": "ipython3",
   "version": "3.11.4"
  }
 },
 "nbformat": 4,
 "nbformat_minor": 5
}
